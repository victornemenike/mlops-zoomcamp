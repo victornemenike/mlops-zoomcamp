{
 "cells": [
  {
   "cell_type": "code",
   "execution_count": 4,
   "id": "de0d6d9f",
   "metadata": {},
   "outputs": [],
   "source": [
    "import sys\n",
    "import pickle\n",
    "import pandas as pd\n",
    "from datetime import datetime"
   ]
  },
  {
   "cell_type": "code",
   "execution_count": 13,
   "id": "6f55cf84",
   "metadata": {},
   "outputs": [],
   "source": [
    "def prepare_data(df, categorical):\n",
    "    df['duration'] = df.tpep_dropoff_datetime - df.tpep_pickup_datetime\n",
    "    df['duration'] = df.duration.dt.total_seconds() / 60\n",
    "\n",
    "    df = df[(df.duration >= 1) & (df.duration <= 60)].copy()\n",
    "\n",
    "    df[categorical] = df[categorical].fillna(-1).astype('int').astype('str')\n",
    "    \n",
    "    return df\n",
    "\n",
    "def dt(hour, minute, second=0):\n",
    "    return datetime(2023, 1, 1, hour, minute, second)"
   ]
  },
  {
   "cell_type": "code",
   "execution_count": 14,
   "id": "f8ab73ef",
   "metadata": {},
   "outputs": [],
   "source": [
    "data = [\n",
    "    (None, None, dt(1, 1), dt(1, 10)),\n",
    "    (1, 1, dt(1, 2), dt(1, 10)),\n",
    "    (1, None, dt(1, 2, 0), dt(1, 2, 59)),\n",
    "    (3, 4, dt(1, 2, 0), dt(2, 2, 1)),\n",
    "    ]\n",
    "\n",
    "columns = ['PULocationID', 'DOLocationID', 'tpep_pickup_datetime', 'tpep_dropoff_datetime']\n",
    "df = pd.DataFrame(data, columns=columns)"
   ]
  },
  {
   "cell_type": "code",
   "execution_count": 15,
   "id": "6f5c2c6f",
   "metadata": {},
   "outputs": [
    {
     "data": {
      "text/html": [
       "<div>\n",
       "<style scoped>\n",
       "    .dataframe tbody tr th:only-of-type {\n",
       "        vertical-align: middle;\n",
       "    }\n",
       "\n",
       "    .dataframe tbody tr th {\n",
       "        vertical-align: top;\n",
       "    }\n",
       "\n",
       "    .dataframe thead th {\n",
       "        text-align: right;\n",
       "    }\n",
       "</style>\n",
       "<table border=\"1\" class=\"dataframe\">\n",
       "  <thead>\n",
       "    <tr style=\"text-align: right;\">\n",
       "      <th></th>\n",
       "      <th>PULocationID</th>\n",
       "      <th>DOLocationID</th>\n",
       "      <th>tpep_pickup_datetime</th>\n",
       "      <th>tpep_dropoff_datetime</th>\n",
       "    </tr>\n",
       "  </thead>\n",
       "  <tbody>\n",
       "    <tr>\n",
       "      <th>0</th>\n",
       "      <td>NaN</td>\n",
       "      <td>NaN</td>\n",
       "      <td>2023-01-01 01:01:00</td>\n",
       "      <td>2023-01-01 01:10:00</td>\n",
       "    </tr>\n",
       "    <tr>\n",
       "      <th>1</th>\n",
       "      <td>1.0</td>\n",
       "      <td>1.0</td>\n",
       "      <td>2023-01-01 01:02:00</td>\n",
       "      <td>2023-01-01 01:10:00</td>\n",
       "    </tr>\n",
       "    <tr>\n",
       "      <th>2</th>\n",
       "      <td>1.0</td>\n",
       "      <td>NaN</td>\n",
       "      <td>2023-01-01 01:02:00</td>\n",
       "      <td>2023-01-01 01:02:59</td>\n",
       "    </tr>\n",
       "    <tr>\n",
       "      <th>3</th>\n",
       "      <td>3.0</td>\n",
       "      <td>4.0</td>\n",
       "      <td>2023-01-01 01:02:00</td>\n",
       "      <td>2023-01-01 02:02:01</td>\n",
       "    </tr>\n",
       "  </tbody>\n",
       "</table>\n",
       "</div>"
      ],
      "text/plain": [
       "   PULocationID  DOLocationID tpep_pickup_datetime tpep_dropoff_datetime\n",
       "0           NaN           NaN  2023-01-01 01:01:00   2023-01-01 01:10:00\n",
       "1           1.0           1.0  2023-01-01 01:02:00   2023-01-01 01:10:00\n",
       "2           1.0           NaN  2023-01-01 01:02:00   2023-01-01 01:02:59\n",
       "3           3.0           4.0  2023-01-01 01:02:00   2023-01-01 02:02:01"
      ]
     },
     "execution_count": 15,
     "metadata": {},
     "output_type": "execute_result"
    }
   ],
   "source": [
    "df"
   ]
  },
  {
   "cell_type": "code",
   "execution_count": 16,
   "id": "24c864e3",
   "metadata": {},
   "outputs": [
    {
     "data": {
      "text/html": [
       "<div>\n",
       "<style scoped>\n",
       "    .dataframe tbody tr th:only-of-type {\n",
       "        vertical-align: middle;\n",
       "    }\n",
       "\n",
       "    .dataframe tbody tr th {\n",
       "        vertical-align: top;\n",
       "    }\n",
       "\n",
       "    .dataframe thead th {\n",
       "        text-align: right;\n",
       "    }\n",
       "</style>\n",
       "<table border=\"1\" class=\"dataframe\">\n",
       "  <thead>\n",
       "    <tr style=\"text-align: right;\">\n",
       "      <th></th>\n",
       "      <th>PULocationID</th>\n",
       "      <th>DOLocationID</th>\n",
       "      <th>tpep_pickup_datetime</th>\n",
       "      <th>tpep_dropoff_datetime</th>\n",
       "      <th>duration</th>\n",
       "    </tr>\n",
       "  </thead>\n",
       "  <tbody>\n",
       "    <tr>\n",
       "      <th>0</th>\n",
       "      <td>-1</td>\n",
       "      <td>-1</td>\n",
       "      <td>2023-01-01 01:01:00</td>\n",
       "      <td>2023-01-01 01:10:00</td>\n",
       "      <td>9.0</td>\n",
       "    </tr>\n",
       "    <tr>\n",
       "      <th>1</th>\n",
       "      <td>1</td>\n",
       "      <td>1</td>\n",
       "      <td>2023-01-01 01:02:00</td>\n",
       "      <td>2023-01-01 01:10:00</td>\n",
       "      <td>8.0</td>\n",
       "    </tr>\n",
       "  </tbody>\n",
       "</table>\n",
       "</div>"
      ],
      "text/plain": [
       "  PULocationID DOLocationID tpep_pickup_datetime tpep_dropoff_datetime  \\\n",
       "0           -1           -1  2023-01-01 01:01:00   2023-01-01 01:10:00   \n",
       "1            1            1  2023-01-01 01:02:00   2023-01-01 01:10:00   \n",
       "\n",
       "   duration  \n",
       "0       9.0  \n",
       "1       8.0  "
      ]
     },
     "execution_count": 16,
     "metadata": {},
     "output_type": "execute_result"
    }
   ],
   "source": [
    "categorical = ['PULocationID', 'DOLocationID']\n",
    "prepared_df = prepare_data(df, categorical)\n",
    "prepared_df"
   ]
  },
  {
   "cell_type": "code",
   "execution_count": 17,
   "id": "f29addb4",
   "metadata": {},
   "outputs": [
    {
     "name": "stdout",
     "output_type": "stream",
     "text": [
      "<class 'pandas.core.frame.DataFrame'>\n",
      "RangeIndex: 4 entries, 0 to 3\n",
      "Data columns (total 5 columns):\n",
      " #   Column                 Non-Null Count  Dtype         \n",
      "---  ------                 --------------  -----         \n",
      " 0   PULocationID           3 non-null      float64       \n",
      " 1   DOLocationID           2 non-null      float64       \n",
      " 2   tpep_pickup_datetime   4 non-null      datetime64[ns]\n",
      " 3   tpep_dropoff_datetime  4 non-null      datetime64[ns]\n",
      " 4   duration               4 non-null      float64       \n",
      "dtypes: datetime64[ns](2), float64(3)\n",
      "memory usage: 288.0 bytes\n"
     ]
    }
   ],
   "source": [
    "df.info()"
   ]
  },
  {
   "cell_type": "code",
   "execution_count": 18,
   "id": "6bb31c29",
   "metadata": {},
   "outputs": [
    {
     "name": "stdout",
     "output_type": "stream",
     "text": [
      "<class 'pandas.core.frame.DataFrame'>\n",
      "Int64Index: 2 entries, 0 to 1\n",
      "Data columns (total 5 columns):\n",
      " #   Column                 Non-Null Count  Dtype         \n",
      "---  ------                 --------------  -----         \n",
      " 0   PULocationID           2 non-null      object        \n",
      " 1   DOLocationID           2 non-null      object        \n",
      " 2   tpep_pickup_datetime   2 non-null      datetime64[ns]\n",
      " 3   tpep_dropoff_datetime  2 non-null      datetime64[ns]\n",
      " 4   duration               2 non-null      float64       \n",
      "dtypes: datetime64[ns](2), float64(1), object(2)\n",
      "memory usage: 96.0+ bytes\n"
     ]
    }
   ],
   "source": [
    "prepared_df.info()"
   ]
  },
  {
   "cell_type": "code",
   "execution_count": null,
   "id": "1366cd75",
   "metadata": {},
   "outputs": [],
   "source": []
  },
  {
   "cell_type": "code",
   "execution_count": null,
   "id": "569ed2cd",
   "metadata": {},
   "outputs": [],
   "source": []
  }
 ],
 "metadata": {
  "kernelspec": {
   "display_name": "Python 3 (ipykernel)",
   "language": "python",
   "name": "python3"
  },
  "language_info": {
   "codemirror_mode": {
    "name": "ipython",
    "version": 3
   },
   "file_extension": ".py",
   "mimetype": "text/x-python",
   "name": "python",
   "nbconvert_exporter": "python",
   "pygments_lexer": "ipython3",
   "version": "3.9.12"
  }
 },
 "nbformat": 4,
 "nbformat_minor": 5
}
